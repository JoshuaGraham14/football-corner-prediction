{
 "cells": [
  {
   "cell_type": "markdown",
   "metadata": {},
   "source": [
    "### Imports"
   ]
  },
  {
   "cell_type": "code",
   "execution_count": 1,
   "metadata": {},
   "outputs": [],
   "source": [
    "import os\n",
    "import sys\n",
    "# Set project root\n",
    "project_root = os.path.abspath(os.path.join(os.getcwd(), \"..\"))\n",
    "sys.path.append(project_root)\n",
    "\n",
    "#--- Get absolute path to the utils folder & backtesting---\n",
    "from pathlib import Path\n",
    "utils_path = Path.cwd() / \"utils\"\n",
    "sys.path.append(str(utils_path))\n",
    "\n",
    "backtesting_path = Path.cwd() / \"backtesting\"\n",
    "sys.path.append(str(backtesting_path))\n",
    "\n",
    "from notebooks.utils.classification_pipeline import run_classification_pipeline"
   ]
  },
  {
   "cell_type": "markdown",
   "metadata": {},
   "source": [
    "### Run Track 1 Pipeline"
   ]
  },
  {
   "cell_type": "code",
   "execution_count": 2,
   "metadata": {},
   "outputs": [
    {
     "name": "stdout",
     "output_type": "stream",
     "text": [
      "Config loaded successfully!\n",
      "📁 Dataset Loaded: 9074 rows, 126 columns\n",
      "✅ Dataset Preprocessed: 9071 rows, 42 columns\n",
      "Created new performance model registry file: ../reports/model_registry/track1_results_FINAL.csv\n",
      "New pipeline created: (pipeline_id = a1f4b197)\n",
      "\n",
      "--- DATASET STATS ---\n",
      "Number of 1's: 6895\n",
      "Number of 0's: 2176\n",
      "Total: 9071\n",
      "Implied 1+ betting odds = 1.3156\n",
      "---------------------\n",
      "\n",
      "-> Training random_forest...\n",
      "\n",
      "-> Training logistic_regression...\n",
      "\n",
      "-> Training svc...\n",
      "\n",
      "-> Training xgboost...\n",
      "\n",
      "📄 Saved Model Registry Results\n",
      "📄 Saved PDF Report\n",
      "✅ Finished Running Pipeline\n"
     ]
    }
   ],
   "source": [
    "# Test load\n",
    "run_classification_pipeline(\"config_track1.yaml\", show_output=False, generate_pdf=True)"
   ]
  }
 ],
 "metadata": {
  "kernelspec": {
   "display_name": "venv",
   "language": "python",
   "name": "python3"
  },
  "language_info": {
   "codemirror_mode": {
    "name": "ipython",
    "version": 3
   },
   "file_extension": ".py",
   "mimetype": "text/x-python",
   "name": "python",
   "nbconvert_exporter": "python",
   "pygments_lexer": "ipython3",
   "version": "3.10.16"
  }
 },
 "nbformat": 4,
 "nbformat_minor": 2
}
